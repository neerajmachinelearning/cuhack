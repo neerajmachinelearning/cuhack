{
 "cells": [
  {
   "cell_type": "code",
   "execution_count": 28,
   "metadata": {},
   "outputs": [],
   "source": [
    "import csv\n",
    "import boto3\n",
    "import pandas as pd\n",
    "import cv2\n",
    "import matplotlib.pyplot as plt \n",
    "import json\n",
    "import sys\n",
    "import time"
   ]
  },
  {
   "cell_type": "code",
   "execution_count": 2,
   "metadata": {},
   "outputs": [],
   "source": [
    "with open(\"credentials.csv\",\"r\") as input:\n",
    "    next(input)\n",
    "    reader=csv.reader(input)\n",
    "    for line in reader:\n",
    "        access_key_id=line[2]\n",
    "        secret_access_key=line[3]"
   ]
  },
  {
   "cell_type": "code",
   "execution_count": 3,
   "metadata": {},
   "outputs": [],
   "source": [
    "photo=\"hotairbaloon.jpg\""
   ]
  },
  {
   "cell_type": "code",
   "execution_count": 4,
   "metadata": {},
   "outputs": [],
   "source": [
    "client = boto3.client('rekognition', aws_access_key_id = access_key_id, aws_secret_access_key = secret_access_key, region_name='us-east-1')"
   ]
  },
  {
   "cell_type": "code",
   "execution_count": 22,
   "metadata": {},
   "outputs": [],
   "source": [
    "with open(photo,'rb') as source_image:\n",
    "    source_bytes=source_image.read()"
   ]
  },
  {
   "cell_type": "code",
   "execution_count": 23,
   "metadata": {},
   "outputs": [
    {
     "name": "stdout",
     "output_type": "stream",
     "text": [
      "{'Labels': [{'Name': 'Ball', 'Confidence': 99.47676086425781, 'Instances': [], 'Parents': []}, {'Name': 'Balloon', 'Confidence': 99.47676086425781, 'Instances': [{'BoundingBox': {'Width': 0.4699590802192688, 'Height': 0.7395995855331421, 'Left': 0.07522430270910263, 'Top': 0.09918608516454697}, 'Confidence': 99.47676086425781}], 'Parents': [{'Name': 'Ball'}]}], 'LabelModelVersion': '2.0', 'ResponseMetadata': {'RequestId': '8479da7d-880f-40e5-b93c-7b66a37f6d55', 'HTTPStatusCode': 200, 'HTTPHeaders': {'content-type': 'application/x-amz-json-1.1', 'date': 'Sun, 26 Jan 2020 02:48:17 GMT', 'x-amzn-requestid': '8479da7d-880f-40e5-b93c-7b66a37f6d55', 'content-length': '362', 'connection': 'keep-alive'}, 'RetryAttempts': 0}}\n"
     ]
    }
   ],
   "source": [
    "response=client.detect_labels(Image={'Bytes':source_bytes},MaxLabels=2,MinConfidence=95)\n",
    "print(response)"
   ]
  },
  {
   "cell_type": "code",
   "execution_count": 10,
   "metadata": {},
   "outputs": [],
   "source": [
    "pic='sum.jpeg'"
   ]
  },
  {
   "cell_type": "code",
   "execution_count": 11,
   "metadata": {},
   "outputs": [
    {
     "name": "stdout",
     "output_type": "stream",
     "text": [
      "{'Labels': [{'Name': 'Person', 'Confidence': 99.26679229736328, 'Instances': [{'BoundingBox': {'Width': 0.7147886157035828, 'Height': 0.6959484815597534, 'Left': 0.18300040066242218, 'Top': 0.2179289609193802}, 'Confidence': 99.26679229736328}], 'Parents': []}, {'Name': 'Pc', 'Confidence': 93.47022247314453, 'Instances': [], 'Parents': [{'Name': 'Electronics'}, {'Name': 'Computer'}]}, {'Name': 'Electronics', 'Confidence': 93.47022247314453, 'Instances': [], 'Parents': []}, {'Name': 'Computer', 'Confidence': 93.47022247314453, 'Instances': [], 'Parents': [{'Name': 'Electronics'}]}, {'Name': 'Laptop', 'Confidence': 87.47058868408203, 'Instances': [{'BoundingBox': {'Width': 0.4931282103061676, 'Height': 0.15939590334892273, 'Left': 0.011257215403020382, 'Top': 0.5771797299385071}, 'Confidence': 83.18744659423828}], 'Parents': [{'Name': 'Pc'}, {'Name': 'Electronics'}, {'Name': 'Computer'}]}, {'Name': 'Female', 'Confidence': 85.0995864868164, 'Instances': [], 'Parents': [{'Name': 'Person'}]}, {'Name': 'Face', 'Confidence': 81.94196319580078, 'Instances': [], 'Parents': [{'Name': 'Person'}]}, {'Name': 'Woman', 'Confidence': 66.47920989990234, 'Instances': [], 'Parents': [{'Name': 'Female'}, {'Name': 'Person'}]}, {'Name': 'Girl', 'Confidence': 65.7568588256836, 'Instances': [], 'Parents': [{'Name': 'Female'}, {'Name': 'Person'}]}, {'Name': 'Portrait', 'Confidence': 62.184200286865234, 'Instances': [], 'Parents': [{'Name': 'Face'}, {'Name': 'Person'}]}], 'LabelModelVersion': '2.0', 'ResponseMetadata': {'RequestId': 'bbe2e1a0-e84c-49cc-8538-2118eceb8672', 'HTTPStatusCode': 200, 'HTTPHeaders': {'content-type': 'application/x-amz-json-1.1', 'date': 'Sun, 26 Jan 2020 02:40:37 GMT', 'x-amzn-requestid': 'bbe2e1a0-e84c-49cc-8538-2118eceb8672', 'content-length': '1376', 'connection': 'keep-alive'}, 'RetryAttempts': 0}}\n"
     ]
    }
   ],
   "source": [
    "response=client.detect_labels(Image={'S3Object':{'Bucket':'2020sd','Name':pic}},MaxLabels=10)\n",
    "print(response)"
   ]
  },
  {
   "cell_type": "code",
   "execution_count": 24,
   "metadata": {},
   "outputs": [],
   "source": [
    "def create_collection(collection_id):\n",
    "\n",
    "#     client=boto3.client('rekognition')\n",
    "\n",
    "    #Create a collection\n",
    "    print('Creating collection:' + collection_id)\n",
    "    response=client.create_collection(CollectionId=collection_id)\n",
    "    print('Collection ARN: ' + response['CollectionArn'])\n",
    "    print('Status code: ' + str(response['StatusCode']))\n",
    "    print('Done...')"
   ]
  },
  {
   "cell_type": "code",
   "execution_count": 25,
   "metadata": {},
   "outputs": [
    {
     "name": "stdout",
     "output_type": "stream",
     "text": [
      "Creating collection:Collection\n",
      "Collection ARN: aws:rekognition:us-east-1:749661538333:collection/Collection\n",
      "Status code: 200\n",
      "Done...\n"
     ]
    }
   ],
   "source": [
    "collection_id='Collection'\n",
    "create_collection(collection_id)"
   ]
  },
  {
   "cell_type": "code",
   "execution_count": 26,
   "metadata": {},
   "outputs": [],
   "source": [
    "def add_faces_to_collection(bucket,photo,collection_id):\n",
    "\n",
    "    response=client.index_faces(CollectionId=collection_id,\n",
    "                                Image={'S3Object':{'Bucket':bucket,'Name':photo}},\n",
    "                                ExternalImageId=photo,\n",
    "                                MaxFaces=1,\n",
    "                                QualityFilter=\"AUTO\",\n",
    "                                DetectionAttributes=['ALL'])\n",
    "\n",
    "    print ('Results for ' + photo)\n",
    "    print('Faces indexed:')\n",
    "    for faceRecord in response['FaceRecords']:\n",
    "        print('  Face ID: ' + faceRecord['Face']['FaceId'])\n",
    "        print('  Location: {}'.format(faceRecord['Face']['BoundingBox']))\n",
    "\n",
    "    print('Faces not indexed:')\n",
    "    for unindexedFace in response['UnindexedFaces']:\n",
    "        print(' Location: {}'.format(unindexedFace['FaceDetail']['BoundingBox']))\n",
    "        print(' Reasons:')\n",
    "        for reason in unindexedFace['Reasons']:\n",
    "            print('   ' + reason)\n",
    "    return len(response['FaceRecords'])"
   ]
  },
  {
   "cell_type": "code",
   "execution_count": 27,
   "metadata": {},
   "outputs": [
    {
     "name": "stdout",
     "output_type": "stream",
     "text": [
      "Results for sum.jpeg\n",
      "Faces indexed:\n",
      "  Face ID: f4a716e2-3825-413e-9158-99f9a77efed7\n",
      "  Location: {'Width': 0.26034557819366455, 'Height': 0.17324276268482208, 'Left': 0.36181923747062683, 'Top': 0.26396483182907104}\n",
      "Faces not indexed:\n",
      "Faces indexed count: 1\n"
     ]
    }
   ],
   "source": [
    "bucket='2020sd'\n",
    "collection_id='Collection'\n",
    "photo='sum.jpeg'\n",
    "indexed_faces_count=add_faces_to_collection(bucket, photo, collection_id)\n",
    "print(\"Faces indexed count: \" + str(indexed_faces_count))"
   ]
  },
  {
   "cell_type": "code",
   "execution_count": 52,
   "metadata": {},
   "outputs": [],
   "source": [
    "Obj=[]"
   ]
  },
  {
   "cell_type": "code",
   "execution_count": 55,
   "metadata": {},
   "outputs": [],
   "source": [
    "class VideoDetect:\n",
    "    jobId = ''\n",
    "    rek = boto3.client('rekognition',aws_access_key_id = access_key_id, aws_secret_access_key = secret_access_key,region_name='us-east-1')\n",
    "    sqs = boto3.client('sqs',aws_access_key_id = access_key_id, aws_secret_access_key = secret_access_key,region_name='us-east-1')\n",
    "    sns = boto3.client('sns',aws_access_key_id = access_key_id, aws_secret_access_key = secret_access_key,region_name='us-east-1')\n",
    "    \n",
    "    roleArn = ''\n",
    "    bucket = ''\n",
    "    video = ''\n",
    "    startJobId = ''\n",
    "\n",
    "    sqsQueueUrl = ''\n",
    "    snsTopicArn = ''\n",
    "    processType = ''\n",
    "\n",
    "    def __init__(self, role, bucket, video):    \n",
    "        self.roleArn = role\n",
    "        self.bucket = bucket\n",
    "        self.video = video\n",
    "\n",
    "    def GetSQSMessageSuccess(self):\n",
    "\n",
    "        jobFound = False\n",
    "        succeeded = False\n",
    "    \n",
    "        dotLine=0\n",
    "        while jobFound == False:\n",
    "            sqsResponse = self.sqs.receive_message(QueueUrl=self.sqsQueueUrl, MessageAttributeNames=['ALL'],\n",
    "                                          MaxNumberOfMessages=10)\n",
    "\n",
    "            if sqsResponse:\n",
    "                \n",
    "                if 'Messages' not in sqsResponse:\n",
    "                    if dotLine<40:\n",
    "                        print('.', end='')\n",
    "                        dotLine=dotLine+1\n",
    "                    else:\n",
    "                        print()\n",
    "                        dotLine=0    \n",
    "                    sys.stdout.flush()\n",
    "                    time.sleep(5)\n",
    "                    continue\n",
    "\n",
    "                for message in sqsResponse['Messages']:\n",
    "                    notification = json.loads(message['Body'])\n",
    "                    rekMessage = json.loads(notification['Message'])\n",
    "                    print(rekMessage['JobId'])\n",
    "                    print(rekMessage['Status'])\n",
    "                    if rekMessage['JobId'] == self.startJobId:\n",
    "                        print('Matching Job Found:' + rekMessage['JobId'])\n",
    "                        jobFound = True\n",
    "                        if (rekMessage['Status']=='SUCCEEDED'):\n",
    "                            succeeded=True\n",
    "\n",
    "                        self.sqs.delete_message(QueueUrl=self.sqsQueueUrl,\n",
    "                                       ReceiptHandle=message['ReceiptHandle'])\n",
    "                    else:\n",
    "                        print(\"Job didn't match:\" +\n",
    "                              str(rekMessage['JobId']) + ' : ' + self.startJobId)\n",
    "                    # Delete the unknown message. Consider sending to dead letter queue\n",
    "                    self.sqs.delete_message(QueueUrl=self.sqsQueueUrl,\n",
    "                                   ReceiptHandle=message['ReceiptHandle'])\n",
    "\n",
    "\n",
    "        return succeeded\n",
    "\n",
    "    def StartLabelDetection(self):\n",
    "        response=self.rek.start_label_detection(Video={'S3Object': {'Bucket': self.bucket, 'Name': self.video}},\n",
    "            NotificationChannel={'RoleArn': self.roleArn, 'SNSTopicArn': self.snsTopicArn})\n",
    "\n",
    "        self.startJobId=response['JobId']\n",
    "        print('Start Job Id: ' + self.startJobId)\n",
    "\n",
    "\n",
    "    def GetLabelDetectionResults(self):\n",
    "        maxResults = 7\n",
    "        paginationToken = ''\n",
    "        finished = False\n",
    "        obj=[]\n",
    "\n",
    "        while finished == False:\n",
    "            response = self.rek.get_label_detection(JobId=self.startJobId,\n",
    "                                            MaxResults=maxResults,\n",
    "                                            NextToken=paginationToken,\n",
    "                                            SortBy='TIMESTAMP')\n",
    "\n",
    "#             print('Codec: ' + response['VideoMetadata']['Codec'])\n",
    "#             print('Duration: ' + str(response['VideoMetadata']['DurationMillis']))\n",
    "#             print('Format: ' + response['VideoMetadata']['Format'])\n",
    "#             print('Frame rate: ' + str(response['VideoMetadata']['FrameRate']))\n",
    "#             print()\n",
    "\n",
    "            for labelDetection in response['Labels']:\n",
    "                label=labelDetection['Label']\n",
    "\n",
    "#                 print(\"Timestamp: \" + str(labelDetection['Timestamp']))\n",
    "                if(label['Confidence']>=97.0):\n",
    "                    print(\"   Label: \" + label['Name'])\n",
    "                    obj.append(label['Name'])\n",
    "#                 print(\"   Confidence: \" +  str(label['Confidence']))\n",
    "#                 print(\"   Instances:\")\n",
    "#                 for instance in label['Instances']:\n",
    "#                     print (\"      Confidence: \" + str(instance['Confidence']))\n",
    "#                     print (\"      Bounding box\")\n",
    "#                     print (\"        Top: \" + str(instance['BoundingBox']['Top']))\n",
    "#                     print (\"        Left: \" + str(instance['BoundingBox']['Left']))\n",
    "#                     print (\"        Width: \" +  str(instance['BoundingBox']['Width']))\n",
    "#                     print (\"        Height: \" +  str(instance['BoundingBox']['Height']))\n",
    "#                     print()\n",
    "#                 print()\n",
    "#                 print (\"   Parents:\")\n",
    "#                 for parent in label['Parents']:\n",
    "#                     print (\"      \" + parent['Name'])\n",
    "#                 print ()\n",
    "\n",
    "                if 'NextToken' in response:\n",
    "                    paginationToken = response['NextToken']\n",
    "                else:\n",
    "                    finished = True\n",
    "        return obj\n",
    "       \n",
    "    \n",
    "    def CreateTopicandQueue(self):\n",
    "      \n",
    "        millis = str(int(round(time.time() * 1000)))\n",
    "\n",
    "        #Create SNS topic\n",
    "        \n",
    "        snsTopicName=\"AmazonRekognitionExample\" + millis\n",
    "\n",
    "        topicResponse=self.sns.create_topic(Name=snsTopicName)\n",
    "        self.snsTopicArn = topicResponse['TopicArn']\n",
    "\n",
    "        #create SQS queue\n",
    "        sqsQueueName=\"AmazonRekognitionQueue\" + millis\n",
    "        self.sqs.create_queue(QueueName=sqsQueueName)\n",
    "        self.sqsQueueUrl = self.sqs.get_queue_url(QueueName=sqsQueueName)['QueueUrl']\n",
    " \n",
    "        attribs = self.sqs.get_queue_attributes(QueueUrl=self.sqsQueueUrl,\n",
    "                                                    AttributeNames=['QueueArn'])['Attributes']\n",
    "                                        \n",
    "        sqsQueueArn = attribs['QueueArn']\n",
    "\n",
    "        # Subscribe SQS queue to SNS topic\n",
    "        self.sns.subscribe(\n",
    "            TopicArn=self.snsTopicArn,\n",
    "            Protocol='sqs',\n",
    "            Endpoint=sqsQueueArn)\n",
    "\n",
    "        #Authorize SNS to write SQS queue \n",
    "        policy = \"\"\"{{\n",
    "  \"Version\":\"2012-10-17\",\n",
    "  \"Statement\":[\n",
    "    {{\n",
    "      \"Sid\":\"MyPolicy\",\n",
    "      \"Effect\":\"Allow\",\n",
    "      \"Principal\" : {{\"AWS\" : \"*\"}},\n",
    "      \"Action\":\"SQS:SendMessage\",\n",
    "      \"Resource\": \"{}\",\n",
    "      \"Condition\":{{\n",
    "        \"ArnEquals\":{{\n",
    "          \"aws:SourceArn\": \"{}\"\n",
    "        }}\n",
    "      }}\n",
    "    }}\n",
    "  ]\n",
    "}}\"\"\".format(sqsQueueArn, self.snsTopicArn)\n",
    " \n",
    "        response = self.sqs.set_queue_attributes(\n",
    "            QueueUrl = self.sqsQueueUrl,\n",
    "            Attributes = {\n",
    "                'Policy' : policy\n",
    "            })\n",
    "\n",
    "    def DeleteTopicandQueue(self):\n",
    "        self.sqs.delete_queue(QueueUrl=self.sqsQueueUrl)\n",
    "        self.sns.delete_topic(TopicArn=self.snsTopicArn)\n"
   ]
  },
  {
   "cell_type": "code",
   "execution_count": 56,
   "metadata": {},
   "outputs": [
    {
     "name": "stdout",
     "output_type": "stream",
     "text": [
      "Start Job Id: 5cad0f34a4ee86a9cd186b4276d65617fbc22ca2d80bbf8eac6d44d435c2d64c\n",
      "........................................\n",
      "..5cad0f34a4ee86a9cd186b4276d65617fbc22ca2d80bbf8eac6d44d435c2d64c\n",
      "SUCCEEDED\n",
      "Matching Job Found:5cad0f34a4ee86a9cd186b4276d65617fbc22ca2d80bbf8eac6d44d435c2d64c\n",
      "   Label: Computer\n",
      "   Label: Computer Hardware\n",
      "   Label: Computer Keyboard\n",
      "   Label: Electronics\n",
      "   Label: Furniture\n",
      "   Label: Hardware\n",
      "   Label: Human\n",
      "   Label: Keyboard\n",
      "   Label: Laptop\n",
      "   Label: Pc\n",
      "   Label: Person\n",
      "   Label: Computer\n",
      "   Label: Computer Hardware\n",
      "   Label: Computer Keyboard\n",
      "   Label: Electronics\n",
      "   Label: Furniture\n",
      "   Label: Hardware\n",
      "   Label: Human\n",
      "   Label: Keyboard\n",
      "   Label: Laptop\n",
      "   Label: Pc\n",
      "   Label: Person\n",
      "   Label: Human\n",
      "   Label: Person\n",
      "   Label: Furniture\n",
      "   Label: Human\n",
      "   Label: Person\n",
      "   Label: Chair\n",
      "   Label: Furniture\n",
      "   Label: Chair\n",
      "   Label: Furniture\n",
      "   Label: Display\n",
      "   Label: Electronics\n",
      "   Label: Human\n",
      "   Label: Monitor\n",
      "   Label: Person\n",
      "   Label: Screen\n",
      "   Label: Display\n",
      "   Label: Electronics\n",
      "   Label: Human\n",
      "   Label: Monitor\n",
      "   Label: Person\n",
      "   Label: Screen\n",
      "   Label: Display\n",
      "   Label: Electronics\n",
      "   Label: Human\n",
      "   Label: Monitor\n",
      "   Label: Person\n",
      "   Label: Screen\n",
      "   Label: Human\n",
      "   Label: Person\n",
      "   Label: Human\n",
      "   Label: Indoors\n",
      "   Label: Lobby\n",
      "   Label: Person\n",
      "   Label: Room\n",
      "   Label: Couch\n",
      "   Label: Furniture\n",
      "   Label: Human\n",
      "   Label: Indoors\n",
      "   Label: Lobby\n",
      "   Label: Person\n",
      "   Label: Room\n"
     ]
    }
   ],
   "source": [
    "roleArn = 'arn:aws:iam::749661538333:role/CURole'   \n",
    "bucket = '2020sd'\n",
    "video = 'cuhack.mp4'\n",
    "obj=[]\n",
    "analyzer=VideoDetect(roleArn, bucket,video)\n",
    "analyzer.CreateTopicandQueue()\n",
    "\n",
    "analyzer.StartLabelDetection()\n",
    "if analyzer.GetSQSMessageSuccess()==True:\n",
    "    obj=analyzer.GetLabelDetectionResults()\n",
    "    \n",
    "analyzer.DeleteTopicandQueue()"
   ]
  },
  {
   "cell_type": "code",
   "execution_count": 57,
   "metadata": {},
   "outputs": [
    {
     "name": "stdout",
     "output_type": "stream",
     "text": [
      "['Computer', 'Computer Hardware', 'Computer Keyboard', 'Electronics', 'Furniture', 'Hardware', 'Human', 'Keyboard', 'Laptop', 'Pc', 'Person', 'Computer', 'Computer Hardware', 'Computer Keyboard', 'Electronics', 'Furniture', 'Hardware', 'Human', 'Keyboard', 'Laptop', 'Pc', 'Person', 'Human', 'Person', 'Furniture', 'Human', 'Person', 'Chair', 'Furniture', 'Chair', 'Furniture', 'Display', 'Electronics', 'Human', 'Monitor', 'Person', 'Screen', 'Display', 'Electronics', 'Human', 'Monitor', 'Person', 'Screen', 'Display', 'Electronics', 'Human', 'Monitor', 'Person', 'Screen', 'Human', 'Person', 'Human', 'Indoors', 'Lobby', 'Person', 'Room', 'Couch', 'Furniture', 'Human', 'Indoors', 'Lobby', 'Person', 'Room']\n"
     ]
    }
   ],
   "source": [
    "print(obj)"
   ]
  },
  {
   "cell_type": "code",
   "execution_count": 60,
   "metadata": {},
   "outputs": [],
   "source": [
    "count = obj.count('Person') #count of humans\n",
    "newlist=obj\n",
    "stopwords = ['Person', 'Human']"
   ]
  },
  {
   "cell_type": "code",
   "execution_count": 62,
   "metadata": {},
   "outputs": [],
   "source": [
    "newlist=[word for word in obj if word not in stopwords ]"
   ]
  },
  {
   "cell_type": "code",
   "execution_count": 65,
   "metadata": {},
   "outputs": [
    {
     "name": "stdout",
     "output_type": "stream",
     "text": [
      "['Computer', 'Computer Hardware', 'Computer Keyboard', 'Electronics', 'Furniture', 'Hardware', 'Keyboard', 'Laptop', 'Pc', 'Chair', 'Display', 'Monitor', 'Screen', 'Indoors', 'Lobby', 'Room', 'Couch']\n"
     ]
    }
   ],
   "source": [
    "res = [i for n, i in enumerate(newlist) if i not in newlist[:n]] \n",
    "print(res) # res has list of words"
   ]
  },
  {
   "cell_type": "code",
   "execution_count": null,
   "metadata": {},
   "outputs": [],
   "source": []
  },
  {
   "cell_type": "code",
   "execution_count": null,
   "metadata": {},
   "outputs": [],
   "source": []
  },
  {
   "cell_type": "code",
   "execution_count": 66,
   "metadata": {},
   "outputs": [],
   "source": [
    "response = client.start_face_search(\n",
    "    Video={\n",
    "        'S3Object': {\n",
    "            'Bucket': '2020sd',\n",
    "            'Name': 'cuhack.mp4'\n",
    "        }\n",
    "    },\n",
    "    CollectionId='Collection',\n",
    "    NotificationChannel={\n",
    "        'SNSTopicArn': 'arn:aws:sns:us-east-1:749661538333:AmazonRekognitionExample1580010752252',\n",
    "        'RoleArn': 'arn:aws:iam::749661538333:role/CURole'\n",
    "    },\n",
    ")"
   ]
  },
  {
   "cell_type": "code",
   "execution_count": 67,
   "metadata": {},
   "outputs": [
    {
     "name": "stdout",
     "output_type": "stream",
     "text": [
      "{'JobId': '5347dc1e478b0eb9bff6e0ae2e868acd125d27d97174741a865bddb94820346d', 'ResponseMetadata': {'RequestId': 'a1d7f53b-ab7d-42d9-81d2-d6523b5a7f2d', 'HTTPStatusCode': 200, 'HTTPHeaders': {'content-type': 'application/x-amz-json-1.1', 'date': 'Sun, 26 Jan 2020 06:30:01 GMT', 'x-amzn-requestid': 'a1d7f53b-ab7d-42d9-81d2-d6523b5a7f2d', 'content-length': '76', 'connection': 'keep-alive'}, 'RetryAttempts': 0}}\n"
     ]
    }
   ],
   "source": [
    "print(response)"
   ]
  },
  {
   "cell_type": "code",
   "execution_count": 68,
   "metadata": {},
   "outputs": [],
   "source": [
    "response = client.get_face_search(\n",
    "    JobId='5347dc1e478b0eb9bff6e0ae2e868acd125d27d97174741a865bddb94820346d'\n",
    ")"
   ]
  },
  {
   "cell_type": "code",
   "execution_count": 69,
   "metadata": {},
   "outputs": [
    {
     "name": "stdout",
     "output_type": "stream",
     "text": [
      "{'JobStatus': 'SUCCEEDED', 'VideoMetadata': {'Codec': 'h264', 'DurationMillis': 6032, 'Format': 'QuickTime / MOV', 'FrameRate': 30.011274337768555, 'FrameHeight': 352, 'FrameWidth': 640}, 'Persons': [{'Timestamp': 0, 'Person': {'Index': 0, 'Face': {'BoundingBox': {'Width': 0.053440142422914505, 'Height': 0.12527327239513397, 'Left': 0.3424128592014313, 'Top': 0.27912279963493347}, 'Landmarks': [{'Type': 'eyeLeft', 'X': 0.37786638736724854, 'Y': 0.3377436697483063}, {'Type': 'eyeRight', 'X': 0.38936811685562134, 'Y': 0.3352155387401581}, {'Type': 'mouthLeft', 'X': 0.37678074836730957, 'Y': 0.38308611512184143}, {'Type': 'mouthRight', 'X': 0.3856108486652374, 'Y': 0.38006335496902466}, {'Type': 'nose', 'X': 0.39404332637786865, 'Y': 0.36168262362480164}], 'Pose': {'Roll': -13.249750137329102, 'Yaw': 58.147518157958984, 'Pitch': -28.11573600769043}, 'Quality': {'Brightness': 30.597442626953125, 'Sharpness': 60.49041748046875}, 'Confidence': 99.99976348876953}}, 'FaceMatches': []}, {'Timestamp': 499, 'Person': {'Index': 0, 'Face': {'BoundingBox': {'Width': 0.05171313136816025, 'Height': 0.1271345019340515, 'Left': 0.3964712619781494, 'Top': 0.27248984575271606}, 'Landmarks': [{'Type': 'eyeLeft', 'X': 0.4319714307785034, 'Y': 0.3331528902053833}, {'Type': 'eyeRight', 'X': 0.4438801407814026, 'Y': 0.32858890295028687}, {'Type': 'mouthLeft', 'X': 0.4302545189857483, 'Y': 0.37906894087791443}, {'Type': 'mouthRight', 'X': 0.4394548237323761, 'Y': 0.3742157816886902}, {'Type': 'nose', 'X': 0.44788989424705505, 'Y': 0.3575909733772278}], 'Pose': {'Roll': -10.522262573242188, 'Yaw': 52.53506088256836, 'Pitch': -25.24465560913086}, 'Quality': {'Brightness': 29.38619041442871, 'Sharpness': 67.22731018066406}, 'Confidence': 99.99970245361328}}, 'FaceMatches': []}, {'Timestamp': 499, 'Person': {'Index': 1, 'Face': {'BoundingBox': {'Width': 0.06915874779224396, 'Height': 0.14270144701004028, 'Left': 0.7745267748832703, 'Top': 0.27239570021629333}, 'Landmarks': [{'Type': 'eyeLeft', 'X': 0.7830166816711426, 'Y': 0.34548288583755493}, {'Type': 'eyeRight', 'X': 0.8034723997116089, 'Y': 0.35189151763916016}, {'Type': 'mouthLeft', 'X': 0.7924696803092957, 'Y': 0.39054226875305176}, {'Type': 'mouthRight', 'X': 0.8094697594642639, 'Y': 0.39738187193870544}, {'Type': 'nose', 'X': 0.786412239074707, 'Y': 0.3844274580478668}], 'Pose': {'Roll': 8.832877159118652, 'Yaw': -41.177337646484375, 'Pitch': -36.94635009765625}, 'Quality': {'Brightness': 19.795684814453125, 'Sharpness': 83.14741516113281}, 'Confidence': 99.99998474121094}}, 'FaceMatches': []}, {'Timestamp': 999, 'Person': {'Index': 0, 'Face': {'BoundingBox': {'Width': 0.058376312255859375, 'Height': 0.12894172966480255, 'Left': 0.49142664670944214, 'Top': 0.2385919988155365}, 'Landmarks': [{'Type': 'eyeLeft', 'X': 0.5208134055137634, 'Y': 0.29351282119750977}, {'Type': 'eyeRight', 'X': 0.5424326062202454, 'Y': 0.2945094406604767}, {'Type': 'mouthLeft', 'X': 0.5223866701126099, 'Y': 0.3410675525665283}, {'Type': 'mouthRight', 'X': 0.5400624871253967, 'Y': 0.34157630801200867}, {'Type': 'nose', 'X': 0.538901150226593, 'Y': 0.31671571731567383}], 'Pose': {'Roll': -1.6373682022094727, 'Yaw': 28.543643951416016, 'Pitch': -17.299705505371094}, 'Quality': {'Brightness': 28.701231002807617, 'Sharpness': 60.49041748046875}, 'Confidence': 99.99995422363281}}, 'FaceMatches': []}, {'Timestamp': 999, 'Person': {'Index': 1, 'Face': {'BoundingBox': {'Width': 0.0667034164071083, 'Height': 0.16552433371543884, 'Left': 0.9214680790901184, 'Top': 0.21222780644893646}, 'Landmarks': [{'Type': 'eyeLeft', 'X': 0.9311432838439941, 'Y': 0.2837139666080475}, {'Type': 'eyeRight', 'X': 0.9491769075393677, 'Y': 0.299299418926239}, {'Type': 'mouthLeft', 'X': 0.9325575232505798, 'Y': 0.3393824100494385}, {'Type': 'mouthRight', 'X': 0.9469025731086731, 'Y': 0.35378897190093994}, {'Type': 'nose', 'X': 0.9252744913101196, 'Y': 0.3225780129432678}], 'Pose': {'Roll': 13.17676830291748, 'Yaw': -45.207698822021484, 'Pitch': -10.132226943969727}, 'Quality': {'Brightness': 33.60846710205078, 'Sharpness': 67.22731018066406}, 'Confidence': 99.99821472167969}}, 'FaceMatches': []}, {'Timestamp': 1499, 'Person': {'Index': 0, 'Face': {'BoundingBox': {'Width': 0.05323648452758789, 'Height': 0.14108861982822418, 'Left': 0.8878812789916992, 'Top': 0.21349984407424927}, 'Landmarks': [{'Type': 'eyeLeft', 'X': 0.9252349138259888, 'Y': 0.2755540907382965}, {'Type': 'eyeRight', 'X': 0.9342765808105469, 'Y': 0.2742116451263428}, {'Type': 'mouthLeft', 'X': 0.9257331490516663, 'Y': 0.3275347352027893}, {'Type': 'mouthRight', 'X': 0.9321532845497131, 'Y': 0.3256627321243286}, {'Type': 'nose', 'X': 0.9418176412582397, 'Y': 0.30021923780441284}], 'Pose': {'Roll': 0.395032674074173, 'Yaw': 61.777992248535156, 'Pitch': -5.420623779296875}, 'Quality': {'Brightness': 32.541236877441406, 'Sharpness': 38.89601135253906}, 'Confidence': 99.9988784790039}}, 'FaceMatches': []}], 'ResponseMetadata': {'RequestId': 'ff6f52f3-d2f3-4481-b40e-ab88c76a1eef', 'HTTPStatusCode': 200, 'HTTPHeaders': {'content-type': 'application/x-amz-json-1.1', 'date': 'Sun, 26 Jan 2020 06:37:11 GMT', 'x-amzn-requestid': 'ff6f52f3-d2f3-4481-b40e-ab88c76a1eef', 'content-length': '4544', 'connection': 'keep-alive'}, 'RetryAttempts': 0}}\n"
     ]
    }
   ],
   "source": [
    "print(response) #nyes or no sumedha in video or not"
   ]
  },
  {
   "cell_type": "code",
   "execution_count": 77,
   "metadata": {},
   "outputs": [
    {
     "data": {
      "text/plain": [
       "dict"
      ]
     },
     "execution_count": 77,
     "metadata": {},
     "output_type": "execute_result"
    }
   ],
   "source": [
    "type(response)"
   ]
  },
  {
   "cell_type": "code",
   "execution_count": 92,
   "metadata": {},
   "outputs": [
    {
     "name": "stdout",
     "output_type": "stream",
     "text": [
      "6\n"
     ]
    }
   ],
   "source": [
    "print(len(response['Persons']))"
   ]
  },
  {
   "cell_type": "code",
   "execution_count": 97,
   "metadata": {},
   "outputs": [
    {
     "name": "stdout",
     "output_type": "stream",
     "text": [
      "Person is not available.\n"
     ]
    }
   ],
   "source": [
    "for i in range(len(response['Persons'])):\n",
    "        faces = (response['Persons'][i][\"FaceMatches\"])\n",
    "if faces is True:\n",
    "        print(\"face recognized\") \n",
    "else:\n",
    "        print(\"Person is not available.\")\n"
   ]
  },
  {
   "cell_type": "code",
   "execution_count": 98,
   "metadata": {},
   "outputs": [
    {
     "name": "stdout",
     "output_type": "stream",
     "text": [
      "{'Labels': [{'Name': 'Ball', 'Confidence': 99.47676086425781, 'Instances': [], 'Parents': []}, {'Name': 'Balloon', 'Confidence': 99.47676086425781, 'Instances': [{'BoundingBox': {'Width': 0.4699590802192688, 'Height': 0.7395995855331421, 'Left': 0.07522430270910263, 'Top': 0.09918608516454697}, 'Confidence': 99.47676086425781}], 'Parents': [{'Name': 'Ball'}]}], 'LabelModelVersion': '2.0', 'ResponseMetadata': {'RequestId': '4db9fbc9-2a1e-4f23-9870-e7cff47c480a', 'HTTPStatusCode': 200, 'HTTPHeaders': {'content-type': 'application/x-amz-json-1.1', 'date': 'Sun, 26 Jan 2020 08:38:16 GMT', 'x-amzn-requestid': '4db9fbc9-2a1e-4f23-9870-e7cff47c480a', 'content-length': '362', 'connection': 'keep-alive'}, 'RetryAttempts': 0}}\n"
     ]
    }
   ],
   "source": [
    "import csv\n",
    "import boto3\n",
    "import pandas as pd\n",
    "import cv2\n",
    "import matplotlib.pyplot as plt \n",
    "import json\n",
    "import sys\n",
    "import time\n",
    "\n",
    "with open(\"credentials.csv\",\"r\") as input:\n",
    "    next(input)\n",
    "    reader=csv.reader(input)\n",
    "    for line in reader:\n",
    "        access_key_id=line[2]\n",
    "        secret_access_key=line[3]\n",
    "        \n",
    "photo=\"hotairbaloon.jpg\"\n",
    "\n",
    "client = boto3.client('rekognition', aws_access_key_id = access_key_id, aws_secret_access_key = secret_access_key, region_name='us-east-1')\n",
    "\n",
    "with open(photo,'rb') as source_image:\n",
    "    source_bytes=source_image.read()\n",
    "    \n",
    "response=client.detect_labels(Image={'Bytes':source_bytes},MaxLabels=2,MinConfidence=95)\n",
    "print(f\"detect label response: {response})\n",
    "\n",
    "\n",
    "pic='sum.jpeg'\n",
    "      \n",
    "      \n",
    "response=client.detect_labels(Image={'S3Object':{'Bucket':'2020sd','Name':pic}},MaxLabels=10)\n",
    "print(response)"
   ]
  }
 ],
 "metadata": {
  "kernelspec": {
   "display_name": "Python [conda env:tensor]",
   "language": "python",
   "name": "conda-env-tensor-py"
  },
  "language_info": {
   "codemirror_mode": {
    "name": "ipython",
    "version": 3
   },
   "file_extension": ".py",
   "mimetype": "text/x-python",
   "name": "python",
   "nbconvert_exporter": "python",
   "pygments_lexer": "ipython3",
   "version": "3.6.8"
  }
 },
 "nbformat": 4,
 "nbformat_minor": 2
}
